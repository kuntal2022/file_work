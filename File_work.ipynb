{
 "cells": [
  {
   "cell_type": "markdown",
   "id": "53671ea0",
   "metadata": {},
   "source": [
    "# Q1. Which function is used to open a file? What are the different modes of opening a file? Explain each mode of file opening."
   ]
  },
  {
   "cell_type": "markdown",
   "id": "ac4607e5",
   "metadata": {},
   "source": [
    "##  ANS\n",
    "\n",
    "###### open() function is used to open a file\n",
    "\n",
    "## Diffrent Mode\n",
    "\n",
    "###### 'r'       open for reading (default)\n",
    "###### 'w'       open for writing, truncating the file first\n",
    "###### 'x'       create a new file and open it for writing\n",
    "###### 'a'       open for writing, appending to the end of the file if it exists\n",
    "###### 'b'       binary mode\n",
    "###### 't'       text mode (default)\n",
    "###### '+'       open a disk file for updating (reading and writing)\n",
    "###### 'U'       universal newline mode (deprecated)"
   ]
  },
  {
   "cell_type": "markdown",
   "id": "f1ae5abd",
   "metadata": {},
   "source": [
    "# Q2. Why close() function is used? Why is it important to close a file?"
   ]
  },
  {
   "cell_type": "markdown",
   "id": "2cc77288",
   "metadata": {},
   "source": [
    "## ANS\n",
    "\n",
    "###### close() is used to tell python compiler that the file is completed with writing now you can save it and show \n",
    "\n",
    "###### close() function is important as if we don't close after writing into the file it will not be saved and can't be displayed"
   ]
  },
  {
   "cell_type": "markdown",
   "id": "a0f7590b",
   "metadata": {},
   "source": [
    "# Q3. Write a python program to create a text file. Write ‘I want to become a Data Scientist’ in that file. Then close the file. Open this file and read the content of the file.\n",
    "\n",
    "# ANS"
   ]
  },
  {
   "cell_type": "code",
   "execution_count": 18,
   "id": "acc89979",
   "metadata": {},
   "outputs": [],
   "source": [
    "# creating the file\n",
    "f1=open(file=\"Kuntal.txt\", mode='w')"
   ]
  },
  {
   "cell_type": "code",
   "execution_count": 19,
   "id": "9e6c4535",
   "metadata": {},
   "outputs": [
    {
     "data": {
      "text/plain": [
       "'I want to become a Data Scientist'"
      ]
     },
     "execution_count": 19,
     "metadata": {},
     "output_type": "execute_result"
    }
   ],
   "source": [
    "# writing into the file\n",
    "f1.write(\"I want to become a Data Scientist\")\n",
    "\n",
    "#closing the file\n",
    "\n",
    "f1.close()\n",
    "\n",
    "# reading the file\n",
    "f2=open(\"Kuntal.txt\", mode=\"r\") # changing the mode\n",
    "f2.read() # reading the file"
   ]
  },
  {
   "cell_type": "code",
   "execution_count": 26,
   "id": "44dc5947",
   "metadata": {},
   "outputs": [],
   "source": [
    "f2.close()"
   ]
  },
  {
   "cell_type": "markdown",
   "id": "9c29a0ba",
   "metadata": {},
   "source": [
    "# Q4. Explain the following with python code: read(), readline() and readlines()."
   ]
  },
  {
   "cell_type": "code",
   "execution_count": 29,
   "id": "2ab62eb9",
   "metadata": {},
   "outputs": [
    {
     "data": {
      "text/plain": [
       "'I want to become a Data Scientist'"
      ]
     },
     "execution_count": 29,
     "metadata": {},
     "output_type": "execute_result"
    }
   ],
   "source": [
    "# read() function wil simpliy retrun the entire text file \n",
    "f3=open(\"Kuntal.txt\", \"r\")\n",
    "f3.read()"
   ]
  },
  {
   "cell_type": "code",
   "execution_count": 36,
   "id": "8c4f9863",
   "metadata": {},
   "outputs": [
    {
     "data": {
      "text/plain": [
       "'become a Data Scientist'"
      ]
     },
     "execution_count": 36,
     "metadata": {},
     "output_type": "execute_result"
    }
   ],
   "source": [
    "# readline() function allows which index we need to see the data suppose we need to see the data from 10th index\n",
    "\n",
    "f3.seek(10)\n",
    "f3.readline() # it will return in string format"
   ]
  },
  {
   "cell_type": "code",
   "execution_count": 46,
   "id": "f4e68569",
   "metadata": {},
   "outputs": [
    {
     "name": "stdout",
     "output_type": "stream",
     "text": [
      "['t to become a Data Scientist']\n"
     ]
    }
   ],
   "source": [
    "# readlines() function will can take the data from specific index and return in a string of lsit form \n",
    "\n",
    "f4=open(\"Kuntal1.txt\", mode=\"w\")\n",
    "f4.write(\"I am Kuntal I like to do coding\")\n",
    "f4.close()\n",
    "with open(\"Kuntal.txt\") as fx:\n",
    "    fx.seek(5)\n",
    "    print(fx.readlines())"
   ]
  },
  {
   "cell_type": "markdown",
   "id": "98288785",
   "metadata": {},
   "source": [
    "# Q5. Explain why with statement is used with open(). What is the advantage of using with statement and open() together?\n",
    "\n",
    "\n",
    "# ANS\n",
    "\n",
    "###### Benefits of calling open () using “with statement” : Fewer chances of bug due to coding error With “with” statement we don’t have to close the opened file manually. It takes care of that when the compiler goes out of the block and automatically closes file."
   ]
  },
  {
   "cell_type": "code",
   "execution_count": 24,
   "id": "7c432e1c",
   "metadata": {},
   "outputs": [
    {
     "name": "stdout",
     "output_type": "stream",
     "text": [
      "I want to become a Data Scientist\n"
     ]
    }
   ],
   "source": [
    "# example\n",
    "with open(\"Kuntal.txt\", 'r') as f:\n",
    "    print(f.read())\n"
   ]
  },
  {
   "cell_type": "markdown",
   "id": "da387085",
   "metadata": {},
   "source": [
    "# Q6. Explain the write() and writelines() functions. Give a suitable example.\n",
    "\n",
    "# ANS"
   ]
  },
  {
   "cell_type": "markdown",
   "id": "835e0584",
   "metadata": {},
   "source": [
    "##### Write() method displays the output but do not provide a new line character.\n",
    "\n",
    "##### WriteLine() method displays the output and also provides a new line character it the end of the string, This would set a new line for the next output."
   ]
  },
  {
   "cell_type": "code",
   "execution_count": 57,
   "id": "1231c54a",
   "metadata": {},
   "outputs": [],
   "source": [
    "# example write\n",
    "f5= open(\"Kuntal3\", 'w')\n",
    "f5.write(\"Explain the write() and writelines() functions. Give a suitable example,  \\\n",
    "Explain the write() and writelines() functions. Give a suitable example\")\n",
    "f5.close()"
   ]
  },
  {
   "cell_type": "code",
   "execution_count": 84,
   "id": "d3ffd16e",
   "metadata": {},
   "outputs": [
    {
     "name": "stdout",
     "output_type": "stream",
     "text": [
      "Write your text: I am Kuntal \n",
      "Write your text: I know coding \n",
      "Write your text: So I am doing\n",
      "Data is written into the file.\n"
     ]
    }
   ],
   "source": [
    "# example write\n",
    "\n",
    "file5 = open(\"Kuntal5.txt\", \"w\")\n",
    "lst = []\n",
    "for i in range(3):\n",
    "    name = input(\"Write your text: \")\n",
    "    lst.append(name)\n",
    "    \n",
    "lst=\".\".join(lst)    \n",
    "file5.writelines(lst)\n",
    "file5.close()\n",
    "print(\"Data is written into the file.\")\n"
   ]
  },
  {
   "cell_type": "code",
   "execution_count": 85,
   "id": "c2f51946",
   "metadata": {},
   "outputs": [
    {
     "data": {
      "text/plain": [
       "'I am Kuntal .I know coding .So I am doing'"
      ]
     },
     "execution_count": 85,
     "metadata": {},
     "output_type": "execute_result"
    }
   ],
   "source": [
    "file5_read=open(\"Kuntal5.txt\", \"r\")\n",
    "file5_read.read()"
   ]
  },
  {
   "cell_type": "code",
   "execution_count": null,
   "id": "db589fd7",
   "metadata": {},
   "outputs": [],
   "source": []
  }
 ],
 "metadata": {
  "kernelspec": {
   "display_name": "Python 3 (ipykernel)",
   "language": "python",
   "name": "python3"
  },
  "language_info": {
   "codemirror_mode": {
    "name": "ipython",
    "version": 3
   },
   "file_extension": ".py",
   "mimetype": "text/x-python",
   "name": "python",
   "nbconvert_exporter": "python",
   "pygments_lexer": "ipython3",
   "version": "3.9.13"
  }
 },
 "nbformat": 4,
 "nbformat_minor": 5
}
